{
 "cells": [
  {
   "cell_type": "code",
   "execution_count": null,
   "metadata": {},
   "outputs": [],
   "source": [
    "# sampling\n",
    "from sklearn import datasets\n",
    "import numpy as np\n",
    "\n",
    "# example\n",
    "# iris\n",
    "iris = datasets.load_iris()\n",
    "test=iris.data\n",
    "inc_inside = iris"
   ]
  },
  {
   "cell_type": "code",
   "execution_count": null,
   "metadata": {},
   "outputs": [],
   "source": [
    "def rearrange(arg_1, arg_2):\n",
    "    if isinstance(arg_1, (np.ndarray)) == False:\n",
    "        raise ValueError(\"input must be array\")\n",
    "    if isinstance(arg_2, (np.ndarray)) == False:\n",
    "        raise ValueError(\"input must be array\")\n",
    "    order = np.argsort(arg_1, axis = None)\n",
    "    arg_2_rearranged = [arg_2[i] for i in order]\n",
    "    return np.array(arg_2_rearranged)\n",
    "\n",
    "\n",
    "def sample(data, data_instance, col= None, sampling = None):\n",
    "    #@@@@@@@@@@@@@@@@@@@@@@@@@@@@@@@@@@\n",
    "    if sampling == True:\n",
    "        _to_s_ = data[:,col].copy()\n",
    "        data = rearrange(_to_s_ , data)\n",
    "    #@@@@@@@@@@@@@@@@@@@@@@@@@@@@@@@@@@\n",
    "    \n",
    "    # choose data and target and rerrange\n",
    "    def _choose_index_(_data):\n",
    "        # set seed\n",
    "        rng = np.random.default_rng(seed = 1)\n",
    "        _index = rng.choice(len(_data)-1, size= (round(len(_data)*0.7),) , replace=False)\n",
    "        return _index\n",
    "\n",
    "    r_d = []\n",
    "    r_t = []\n",
    "    for i in set(data_instance.target):\n",
    "        d_1 = data[np.where(data_instance.target==i)]\n",
    "        t_1 = data_instance.target[np.where(data_instance.target==i)]\n",
    "        c_i = _choose_index_(d_1)\n",
    "        r_d.append(d_1[c_i])\n",
    "        r_t.append(t_1[c_i])\n",
    "    r_d_c = r_d[0]\n",
    "    r_t_c = r_t[0]\n",
    "    for ind in range(0, len(r_d)-1):\n",
    "        # rerranged data\n",
    "        r_d_c = np.vstack((r_d_c,r_d[ind+1]))\n",
    "        # rerranged target\n",
    "        r_t_c = np.append(r_t_c,r_t[ind+1])\n",
    "    #--------------------------------\n",
    "    return r_d_c\n",
    "\n",
    "\n",
    "h, w = test.shape\n",
    "samples__ = []\n",
    "data_s__ = sample(test, inc_inside, col=None, sampling = False)\n",
    "samples__.append(data_s__)\n",
    "for i in range(0,w):\n",
    "    data_s_ = sample(test, inc_inside, col=i , sampling = True)\n",
    "    samples__.append(data_s_)\n",
    "\n",
    "\n",
    "from scipy.stats import ks_2samp\n",
    "# Kolmogorov-Smirnov test \n",
    "pvalue_st = []\n",
    "reuslt_1 = []\n",
    "for sample_i in samples__:\n",
    "    for col_ in range(0,w):\n",
    "        # Apply Kolmogorov-Smirnov test to every column of original dataset and corresponding column of sample\n",
    "        reuslt_1.append(ks_2samp(test[:,col_], sample_i[:,col_]).pvalue)  \n",
    "    reuslt_1 = np.array(reuslt_1)\n",
    "    pvalue_st.append(np.mean(reuslt_1))\n",
    "    # reset\n",
    "    reuslt_1 = []\n",
    "pvalue_st = np.array(pvalue_st)"
   ]
  },
  {
   "cell_type": "code",
   "execution_count": null,
   "metadata": {},
   "outputs": [],
   "source": [
    "pvalue_st"
   ]
  },
  {
   "cell_type": "code",
   "execution_count": null,
   "metadata": {},
   "outputs": [],
   "source": [
    "# For original dataset simply do 2. For every column of original dataset firstly do 1 and then 2. Then there will be n+1 samples \n",
    "result___ = []\n",
    "result___.append(sample(test, inc_inside, col=None, sampling = False))\n",
    "h, w = test.shape\n",
    "for i in range(0, w):\n",
    "    data_s_0 = sample(test, inc_inside, col=i, sampling = True)\n",
    "    result___.append(data_s_0)"
   ]
  },
  {
   "cell_type": "code",
   "execution_count": null,
   "metadata": {},
   "outputs": [],
   "source": [
    "# Euclidean distance for mean values between all columns of original dataset and n+1 samples \n",
    "a_ = []\n",
    "for data in result___:\n",
    "    a_.append(np.linalg.norm(np.mean(test, axis = 0) - np.mean(data, axis = 0)))"
   ]
  },
  {
   "cell_type": "code",
   "execution_count": null,
   "metadata": {},
   "outputs": [],
   "source": [
    "# Euclidean distance for variances values between all columns of original dataset and n+1 samples\n",
    "b_ = []\n",
    "for data in result___:\n",
    "    b_.append(np.linalg.norm(np.var(test, axis = 0) - np.var(data, axis = 0)))"
   ]
  },
  {
   "cell_type": "code",
   "execution_count": null,
   "metadata": {},
   "outputs": [],
   "source": [
    "a_ = np.array(a_)\n",
    "b_ = np.array(b_)"
   ]
  },
  {
   "cell_type": "code",
   "execution_count": null,
   "metadata": {},
   "outputs": [],
   "source": [
    "# index of sorted column for those samples with pvalue>0.997\n",
    "# -1 means simply do 2\n",
    "np.array(np.where(pvalue_st>0.997))-1"
   ]
  },
  {
   "cell_type": "code",
   "execution_count": null,
   "metadata": {},
   "outputs": [],
   "source": [
    "# Choose those samples with pvalue>0.997 and select a_*b_ of chosen samples.\n",
    "(a_*b_)[np.where(pvalue_st>0.997)] "
   ]
  },
  {
   "cell_type": "code",
   "execution_count": null,
   "metadata": {},
   "outputs": [],
   "source": [
    "# verify sample by graphical presentation, pay attention to tail distribution and extreme values\n",
    "# for too obvious difference between sample and orginal datasaet on tail distribution and extreme values, sample needs to be reselected. \n",
    "result___ = []\n",
    "data_s = test\n",
    "data_s_0 = sample(test, inc_inside, col=None, sampling = False)\n",
    "result___.append(data_s_0)\n",
    "\n",
    "get_ipython().run_line_magic('matplotlib', 'notebook')\n",
    "import matplotlib\n",
    "import matplotlib.pyplot as plt\n",
    "\n",
    "fig = plt.figure(figsize=(10,10),dpi=200)\n",
    "ax = fig.add_subplot(5,3,1)\n",
    "ax.boxplot(data_s)\n",
    "ax_0 = fig.add_subplot(5,3,2)\n",
    "ax_0.boxplot(data_s_0)\n",
    "\n",
    "\n",
    "ax.tick_params(labelsize = 'xx-small')\n",
    "ax.set_ylim(bottom=0.3, top=20)\n",
    "ax.set_xlabel('original dataset', size = 'xx-small')\n",
    "ax_0.tick_params(labelsize = 'xx-small')\n",
    "ax_0.set_ylim(bottom=0.3, top=20)\n",
    "ax_0.set_xlabel('sample', size ='xx-small' )\n",
    "\n",
    "plt.show()"
   ]
  },
  {
   "cell_type": "code",
   "execution_count": null,
   "metadata": {},
   "outputs": [],
   "source": [
    "# record index of column to be sorted: -1 (-1 means simply do step 2)\n",
    "# seed = 1"
   ]
  }
 ],
 "metadata": {
  "kernelspec": {
   "display_name": "Python 3",
   "language": "python",
   "name": "python3"
  },
  "language_info": {
   "codemirror_mode": {
    "name": "ipython",
    "version": 3
   },
   "file_extension": ".py",
   "mimetype": "text/x-python",
   "name": "python",
   "nbconvert_exporter": "python",
   "pygments_lexer": "ipython3",
   "version": "3.6.0"
  }
 },
 "nbformat": 4,
 "nbformat_minor": 4
}
